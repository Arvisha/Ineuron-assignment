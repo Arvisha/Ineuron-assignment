{
 "cells": [
  {
   "cell_type": "markdown",
   "metadata": {},
   "source": [
    "1.1 Write a Python Program(with class concepts) to find the area of the triangle using the below\n",
    "formula.\n",
    "area = (s*(s-a)*(s-b)*(s-c)) ** 0.5\n",
    "Function to take the length of the sides of triangle from user should be defined in the parent\n",
    "class and function to calculate the area should be defined in subclass."
   ]
  },
  {
   "cell_type": "code",
   "execution_count": 1,
   "metadata": {},
   "outputs": [
    {
     "name": "stdout",
     "output_type": "stream",
     "text": [
      "enter the value a: 5\n",
      "enter the value b: 5\n",
      "enter the value c: 5\n",
      "area : 10.825317547305483\n"
     ]
    }
   ],
   "source": [
    "class parameters:\n",
    "    def __init__(self, a, b, c):\n",
    "        self.a = a\n",
    "        self.b = b\n",
    "        self.c = c\n",
    "        self.area = 0\n",
    "\n",
    "class triangle(parameters):\n",
    "    def __init__(self, a, b, c):\n",
    "        parameters.__init__(self, a, b, c)\n",
    "\n",
    "    def calculate_area(self):\n",
    "        s = (self.a + self.b + self.c) / 2\n",
    "        self.area = ((s * (s - self.a) * (s - self.b) * (s - self.c))) ** 0.5\n",
    "\n",
    "    def get_area(self):\n",
    "        return self.area     \n",
    "\n",
    "a = float(input(\"enter the value a: \"))\n",
    "b = float(input(\"enter the value b: \"))\n",
    "c = float(input(\"enter the value c: \"))\n",
    "\n",
    "t = triangle(a, b, c)\n",
    "t.calculate_area()\n",
    "print(\"area : {}\".format(t.get_area()))"
   ]
  },
  {
   "cell_type": "markdown",
   "metadata": {},
   "source": [
    "1.2 Write a function filter_long_words() that takes a list of words and an integer n and returns\n",
    "the list of words that are longer than n."
   ]
  },
  {
   "cell_type": "code",
   "execution_count": 3,
   "metadata": {},
   "outputs": [
    {
     "name": "stdout",
     "output_type": "stream",
     "text": [
      "enter the n value: 3\n",
      "enter the list of words: hi hello welcome\n"
     ]
    },
    {
     "data": {
      "text/plain": [
       "['hello', 'welcome']"
      ]
     },
     "execution_count": 3,
     "metadata": {},
     "output_type": "execute_result"
    }
   ],
   "source": [
    "def filter_long_words(n, words):\n",
    "    txt = words.split(\" \")\n",
    "    lst = [x for x in txt if len(x)>n]\n",
    "    return lst\n",
    "n = int(input(\"enter the n value: \"))\n",
    "words =  input(\"enter the list of words: \")\n",
    "filter_long_words(n,words)"
   ]
  },
  {
   "cell_type": "markdown",
   "metadata": {},
   "source": [
    "2.1 Write a Python program using function concept that maps list of words into a list of integers\n",
    "representing the lengths of the corresponding words.\n",
    "Hint: If a list [ ab,cde,erty] is passed on to the python function output should come as [2,3,4]\n",
    "Here 2,3 and 4 are the lengths of the words in the list."
   ]
  },
  {
   "cell_type": "code",
   "execution_count": 4,
   "metadata": {},
   "outputs": [
    {
     "name": "stdout",
     "output_type": "stream",
     "text": [
      "enter the list of words: hi hello\n",
      "['hi', 'hello']\n"
     ]
    },
    {
     "data": {
      "text/plain": [
       "[2, 5]"
      ]
     },
     "execution_count": 4,
     "metadata": {},
     "output_type": "execute_result"
    }
   ],
   "source": [
    "def wordlength(wordlist):\n",
    "    return list(map(lambda x: len(x), wordlist))\n",
    "txt = input(\"enter the list of words: \")\n",
    "wordlist = txt.split(\" \")\n",
    "print(wordlist)\n",
    "wordlength(wordlist)\n"
   ]
  },
  {
   "cell_type": "markdown",
   "metadata": {},
   "source": [
    "2.2 Write a Python function which takes a character (i.e. a string of length 1) and returns True if\n",
    "it is a vowel, False otherwise."
   ]
  },
  {
   "cell_type": "code",
   "execution_count": 2,
   "metadata": {},
   "outputs": [
    {
     "name": "stdout",
     "output_type": "stream",
     "text": [
      "enter character: i\n"
     ]
    },
    {
     "data": {
      "text/plain": [
       "True"
      ]
     },
     "execution_count": 2,
     "metadata": {},
     "output_type": "execute_result"
    }
   ],
   "source": [
    "def vowels(char):\n",
    "    for i in char.casefold():\n",
    "        if i in (\"a\", \"e\", \"i\", \"o\", \"u\"):\n",
    "            return True\n",
    "        else:\n",
    "            return False\n",
    "char = input(\"enter character: \")\n",
    "vowels(char)"
   ]
  }
 ],
 "metadata": {
  "kernelspec": {
   "display_name": "Python 3",
   "language": "python",
   "name": "python3"
  },
  "language_info": {
   "codemirror_mode": {
    "name": "ipython",
    "version": 3
   },
   "file_extension": ".py",
   "mimetype": "text/x-python",
   "name": "python",
   "nbconvert_exporter": "python",
   "pygments_lexer": "ipython3",
   "version": "3.8.3"
  }
 },
 "nbformat": 4,
 "nbformat_minor": 4
}
